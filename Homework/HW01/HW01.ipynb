{
 "cells": [
  {
   "cell_type": "markdown",
   "metadata": {},
   "source": [
    "In this assignment, we are interested in exploring the effects of the exposome on pediatric\n",
    "asthma. Towards that we will assess and wrangle the provide data by answering the following\n",
    "questions. You will use the codebook, covariates, exposome and phenotype files. Submit your\n",
    "responses in a PDF file including your code and results. You can use Python or R. Do ask for\n",
    "help and if you have any questions."
   ]
  },
  {
   "cell_type": "markdown",
   "metadata": {},
   "source": [
    "1. Using the covariates dataset, group the data by sex \"e3_sex_None\". Which gender has the highest weight \"hs_c_weight_None '' and what is its corresponding mean value? (20 Points)\n",
    "    1. Males have the highest weight with a max of 71.1 and a mean of 29.0."
   ]
  },
  {
   "cell_type": "code",
   "execution_count": 45,
   "metadata": {},
   "outputs": [
    {
     "data": {
      "text/html": [
       "<div>\n",
       "<style scoped>\n",
       "    .dataframe tbody tr th:only-of-type {\n",
       "        vertical-align: middle;\n",
       "    }\n",
       "\n",
       "    .dataframe tbody tr th {\n",
       "        vertical-align: top;\n",
       "    }\n",
       "\n",
       "    .dataframe thead th {\n",
       "        text-align: right;\n",
       "    }\n",
       "</style>\n",
       "<table border=\"1\" class=\"dataframe\">\n",
       "  <thead>\n",
       "    <tr style=\"text-align: right;\">\n",
       "      <th></th>\n",
       "      <th>ID</th>\n",
       "      <th>h_cohort</th>\n",
       "      <th>e3_sex_None</th>\n",
       "      <th>e3_yearbir_None</th>\n",
       "      <th>h_mbmi_None</th>\n",
       "      <th>hs_wgtgain_None</th>\n",
       "      <th>e3_gac_None</th>\n",
       "      <th>h_age_None</th>\n",
       "      <th>h_edumc_None</th>\n",
       "      <th>h_native_None</th>\n",
       "      <th>h_parity_None</th>\n",
       "      <th>hs_child_age_None</th>\n",
       "      <th>hs_c_height_None</th>\n",
       "      <th>hs_c_weight_None</th>\n",
       "    </tr>\n",
       "  </thead>\n",
       "  <tbody>\n",
       "    <tr>\n",
       "      <th>0</th>\n",
       "      <td>1</td>\n",
       "      <td>4</td>\n",
       "      <td>male</td>\n",
       "      <td>2008</td>\n",
       "      <td>25.510204</td>\n",
       "      <td>17.0</td>\n",
       "      <td>41.000000</td>\n",
       "      <td>28.000000</td>\n",
       "      <td>2</td>\n",
       "      <td>2</td>\n",
       "      <td>0</td>\n",
       "      <td>6.165640</td>\n",
       "      <td>1.220</td>\n",
       "      <td>23.4</td>\n",
       "    </tr>\n",
       "    <tr>\n",
       "      <th>1</th>\n",
       "      <td>2</td>\n",
       "      <td>4</td>\n",
       "      <td>male</td>\n",
       "      <td>2007</td>\n",
       "      <td>26.491508</td>\n",
       "      <td>18.0</td>\n",
       "      <td>41.000000</td>\n",
       "      <td>22.841553</td>\n",
       "      <td>3</td>\n",
       "      <td>2</td>\n",
       "      <td>1</td>\n",
       "      <td>6.992471</td>\n",
       "      <td>1.220</td>\n",
       "      <td>27.6</td>\n",
       "    </tr>\n",
       "    <tr>\n",
       "      <th>2</th>\n",
       "      <td>3</td>\n",
       "      <td>4</td>\n",
       "      <td>male</td>\n",
       "      <td>2008</td>\n",
       "      <td>30.116213</td>\n",
       "      <td>11.0</td>\n",
       "      <td>39.000000</td>\n",
       "      <td>34.232422</td>\n",
       "      <td>3</td>\n",
       "      <td>2</td>\n",
       "      <td>1</td>\n",
       "      <td>6.110883</td>\n",
       "      <td>1.280</td>\n",
       "      <td>37.5</td>\n",
       "    </tr>\n",
       "    <tr>\n",
       "      <th>3</th>\n",
       "      <td>4</td>\n",
       "      <td>2</td>\n",
       "      <td>female</td>\n",
       "      <td>2005</td>\n",
       "      <td>21.048048</td>\n",
       "      <td>21.0</td>\n",
       "      <td>39.285713</td>\n",
       "      <td>32.725529</td>\n",
       "      <td>1</td>\n",
       "      <td>2</td>\n",
       "      <td>1</td>\n",
       "      <td>10.138261</td>\n",
       "      <td>1.345</td>\n",
       "      <td>27.7</td>\n",
       "    </tr>\n",
       "    <tr>\n",
       "      <th>4</th>\n",
       "      <td>5</td>\n",
       "      <td>3</td>\n",
       "      <td>male</td>\n",
       "      <td>2005</td>\n",
       "      <td>22.151022</td>\n",
       "      <td>20.0</td>\n",
       "      <td>43.000000</td>\n",
       "      <td>20.865160</td>\n",
       "      <td>1</td>\n",
       "      <td>2</td>\n",
       "      <td>0</td>\n",
       "      <td>9.451175</td>\n",
       "      <td>1.370</td>\n",
       "      <td>34.0</td>\n",
       "    </tr>\n",
       "  </tbody>\n",
       "</table>\n",
       "</div>"
      ],
      "text/plain": [
       "   ID  h_cohort e3_sex_None  e3_yearbir_None  h_mbmi_None  hs_wgtgain_None  \\\n",
       "0   1         4        male             2008    25.510204             17.0   \n",
       "1   2         4        male             2007    26.491508             18.0   \n",
       "2   3         4        male             2008    30.116213             11.0   \n",
       "3   4         2      female             2005    21.048048             21.0   \n",
       "4   5         3        male             2005    22.151022             20.0   \n",
       "\n",
       "   e3_gac_None  h_age_None  h_edumc_None  h_native_None  h_parity_None  \\\n",
       "0    41.000000   28.000000             2              2              0   \n",
       "1    41.000000   22.841553             3              2              1   \n",
       "2    39.000000   34.232422             3              2              1   \n",
       "3    39.285713   32.725529             1              2              1   \n",
       "4    43.000000   20.865160             1              2              0   \n",
       "\n",
       "   hs_child_age_None  hs_c_height_None  hs_c_weight_None  \n",
       "0           6.165640             1.220              23.4  \n",
       "1           6.992471             1.220              27.6  \n",
       "2           6.110883             1.280              37.5  \n",
       "3          10.138261             1.345              27.7  \n",
       "4           9.451175             1.370              34.0  "
      ]
     },
     "execution_count": 45,
     "metadata": {},
     "output_type": "execute_result"
    }
   ],
   "source": [
    "import pandas as pd\n",
    "\n",
    "df_covariates = pd.read_csv('covariates.csv')\n",
    "df_covariates.head()"
   ]
  },
  {
   "cell_type": "code",
   "execution_count": 46,
   "metadata": {},
   "outputs": [
    {
     "data": {
      "text/plain": [
       "e3_sex_None\n",
       "female    69.9\n",
       "male      71.1\n",
       "Name: hs_c_weight_None, dtype: float64"
      ]
     },
     "metadata": {},
     "output_type": "display_data"
    },
    {
     "data": {
      "text/plain": [
       "e3_sex_None\n",
       "female    27.936513\n",
       "male      29.026696\n",
       "Name: hs_c_weight_None, dtype: float64"
      ]
     },
     "metadata": {},
     "output_type": "display_data"
    }
   ],
   "source": [
    "# group data based off sex\n",
    "grouped = df_covariates.groupby('e3_sex_None')\n",
    "\n",
    "# get max weight for males and females\n",
    "weight_max = grouped['hs_c_weight_None'].max()\n",
    "display(weight_max)\n",
    "\n",
    "# get mean weight for males and females\n",
    "weight_mean = grouped['hs_c_weight_None'].mean()\n",
    "display(weight_mean)"
   ]
  },
  {
   "cell_type": "markdown",
   "metadata": {},
   "source": [
    "2. Create a dataframe called “phenotype” using the phenotype dataset and answer the following questions:\n",
    "\n",
    "    1. Count the number of missing values per column in the above dataframe.(20 Points)\n",
    "        1. There are no missing values in the phenotype dataset.\n",
    "\n",
    "    2. Extract and Print all individuals (IDs) from the dataframe what have a Body mass index categories at 6-11 years old - WHO reference of Overweight or Obese. Refer the Codebook file to find the field and values. (20 Points)\n",
    "\n",
    "    3. Identify any records (IDs) that are duplicative in the records you extracted in Step b. (20 Points)\n"
   ]
  },
  {
   "cell_type": "code",
   "execution_count": 60,
   "metadata": {},
   "outputs": [
    {
     "data": {
      "text/html": [
       "<div>\n",
       "<style scoped>\n",
       "    .dataframe tbody tr th:only-of-type {\n",
       "        vertical-align: middle;\n",
       "    }\n",
       "\n",
       "    .dataframe tbody tr th {\n",
       "        vertical-align: top;\n",
       "    }\n",
       "\n",
       "    .dataframe thead th {\n",
       "        text-align: right;\n",
       "    }\n",
       "</style>\n",
       "<table border=\"1\" class=\"dataframe\">\n",
       "  <thead>\n",
       "    <tr style=\"text-align: right;\">\n",
       "      <th></th>\n",
       "      <th>ID</th>\n",
       "      <th>e3_bw</th>\n",
       "      <th>hs_asthma</th>\n",
       "      <th>hs_zbmi_who</th>\n",
       "      <th>hs_correct_raven</th>\n",
       "      <th>hs_Gen_Tot</th>\n",
       "      <th>hs_bmi_c_cat</th>\n",
       "    </tr>\n",
       "  </thead>\n",
       "  <tbody>\n",
       "    <tr>\n",
       "      <th>0</th>\n",
       "      <td>1</td>\n",
       "      <td>4100</td>\n",
       "      <td>0</td>\n",
       "      <td>0.30</td>\n",
       "      <td>18</td>\n",
       "      <td>84.0</td>\n",
       "      <td>2</td>\n",
       "    </tr>\n",
       "    <tr>\n",
       "      <th>1</th>\n",
       "      <td>2</td>\n",
       "      <td>4158</td>\n",
       "      <td>0</td>\n",
       "      <td>0.41</td>\n",
       "      <td>25</td>\n",
       "      <td>39.0</td>\n",
       "      <td>2</td>\n",
       "    </tr>\n",
       "    <tr>\n",
       "      <th>2</th>\n",
       "      <td>3</td>\n",
       "      <td>4110</td>\n",
       "      <td>1</td>\n",
       "      <td>3.33</td>\n",
       "      <td>13</td>\n",
       "      <td>40.0</td>\n",
       "      <td>4</td>\n",
       "    </tr>\n",
       "    <tr>\n",
       "      <th>3</th>\n",
       "      <td>4</td>\n",
       "      <td>3270</td>\n",
       "      <td>0</td>\n",
       "      <td>-0.76</td>\n",
       "      <td>28</td>\n",
       "      <td>54.5</td>\n",
       "      <td>2</td>\n",
       "    </tr>\n",
       "    <tr>\n",
       "      <th>4</th>\n",
       "      <td>5</td>\n",
       "      <td>3950</td>\n",
       "      <td>0</td>\n",
       "      <td>0.98</td>\n",
       "      <td>19</td>\n",
       "      <td>18.0</td>\n",
       "      <td>2</td>\n",
       "    </tr>\n",
       "  </tbody>\n",
       "</table>\n",
       "</div>"
      ],
      "text/plain": [
       "   ID  e3_bw  hs_asthma  hs_zbmi_who  hs_correct_raven  hs_Gen_Tot  \\\n",
       "0   1   4100          0         0.30                18        84.0   \n",
       "1   2   4158          0         0.41                25        39.0   \n",
       "2   3   4110          1         3.33                13        40.0   \n",
       "3   4   3270          0        -0.76                28        54.5   \n",
       "4   5   3950          0         0.98                19        18.0   \n",
       "\n",
       "   hs_bmi_c_cat  \n",
       "0             2  \n",
       "1             2  \n",
       "2             4  \n",
       "3             2  \n",
       "4             2  "
      ]
     },
     "execution_count": 60,
     "metadata": {},
     "output_type": "execute_result"
    }
   ],
   "source": [
    "df_phenotype = pd.read_csv('phenotype.csv')\n",
    "df_phenotype.head()"
   ]
  },
  {
   "cell_type": "code",
   "execution_count": 61,
   "metadata": {},
   "outputs": [
    {
     "name": "stdout",
     "output_type": "stream",
     "text": [
      "ID                  0\n",
      "e3_bw               0\n",
      "hs_asthma           0\n",
      "hs_zbmi_who         0\n",
      "hs_correct_raven    0\n",
      "hs_Gen_Tot          0\n",
      "hs_bmi_c_cat        0\n",
      "dtype: int64\n"
     ]
    }
   ],
   "source": [
    "# sum null values for each column\n",
    "nan_count = df_phenotype.isnull().sum()\n",
    "print(nan_count)"
   ]
  },
  {
   "cell_type": "code",
   "execution_count": 101,
   "metadata": {},
   "outputs": [
    {
     "name": "stdout",
     "output_type": "stream",
     "text": [
      "Overweight IDs:\n",
      "[3, 10, 11, 12, 15, 16, 21, 25, 27, 30, 34, 39, 41, 43, 52, 54, 63, 67, 70, 75, 76, 77, 78, 79, 80, 81, 83, 84, 85, 87, 88, 95, 110, 112, 120, 121, 127, 140, 141, 142, 143, 144, 147, 150, 155, 159, 160, 170, 172, 174, 181, 183, 192, 193, 199, 200, 204, 206, 209, 213, 214, 225, 227, 229, 233, 247, 257, 259, 262, 266, 268, 270, 279, 284, 285, 292, 295, 297, 298, 299, 301, 302, 303, 304, 306, 309, 312, 315, 323, 324, 325, 328, 333, 336, 339, 340, 344, 345, 346, 351, 352, 359, 361, 362, 364, 366, 367, 379, 381, 385, 386, 388, 392, 397, 404, 407, 409, 410, 421, 424, 431, 433, 436, 437, 438, 441, 442, 443, 444, 447, 448, 452, 453, 458, 459, 461, 466, 469, 475, 481, 484, 490, 494, 497, 501, 502, 510, 512, 522, 523, 526, 530, 536, 540, 547, 550, 551, 552, 553, 554, 559, 562, 565, 574, 575, 577, 582, 584, 598, 599, 608, 609, 612, 615, 616, 617, 618, 620, 622, 623, 629, 631, 637, 638, 641, 645, 647, 648, 663, 664, 666, 670, 671, 680, 684, 686, 688, 690, 691, 702, 704, 707, 710, 712, 714, 717, 718, 719, 720, 721, 732, 735, 737, 740, 746, 747, 751, 756, 758, 759, 765, 766, 769, 784, 785, 790, 797, 798, 799, 800, 806, 809, 810, 815, 819, 822, 823, 829, 837, 840, 845, 846, 847, 848, 850, 852, 853, 855, 857, 861, 865, 868, 869, 870, 872, 875, 877, 880, 881, 886, 892, 893, 904, 906, 907, 908, 911, 914, 918, 920, 922, 924, 931, 936, 939, 941, 950, 957, 962, 965, 967, 969, 977, 984, 985, 987, 990, 991, 992, 993, 994, 998, 999, 1006, 1008, 1010, 1011, 1012, 1014, 1016, 1019, 1020, 1027, 1029, 1030, 1032, 1041, 1043, 1044, 1045, 1047, 1048, 1055, 1056, 1058, 1065, 1066, 1067, 1069, 1071, 1072, 1074, 1075, 1078, 1081, 1085, 1089, 1090, 1092, 1093, 1096, 1099, 1101, 1103, 1106, 1108, 1114, 1116, 1124, 1127, 1128, 1129, 1130, 1131, 1137, 1139, 1140, 1151, 1154, 1156, 1157, 1161, 1166, 1167, 1169, 1175, 1177, 1181, 1182, 1183, 1190, 1191, 1192, 1196, 1201, 1204, 1211, 1212, 1221, 1224, 1225, 1237, 1249, 1250, 1255, 1259, 1275, 1276, 1285, 1290, 1291, 1295, 1297, 1299]\n",
      "\n",
      "Duplicate IDs:\n",
      "[]\n"
     ]
    }
   ],
   "source": [
    "df_codebook = pd.read_csv('codebook.csv')\n",
    "\n",
    "# get variable names for phenotype data\n",
    "p_columns = df_phenotype.columns.tolist()\n",
    "p_columns.remove('ID')\n",
    "\n",
    "# extract relavent variables from codebook\n",
    "codes = df_codebook[df_codebook['variable_name'].isin(p_columns)] \n",
    "# Looks like we want to use the hs_bmi_c_cat variable for question 2.2. Values greater than or equal to 3 are considered overweight or obese.\n",
    "\n",
    "# get overweight and obese ids from phenotype data\n",
    "overweight_id = df_phenotype['ID'][df_phenotype['hs_bmi_c_cat'] >= 3].tolist()\n",
    "print(\"Overweight IDs:\")\n",
    "print(overweight_id)\n",
    "print()\n",
    "\n",
    "# Identify duplicate IDs\n",
    "duplicates_mask = df_phenotype['ID'].duplicated(keep=False)\n",
    "id_duplicate = df_phenotype['ID'][duplicates_mask].tolist()\n",
    "print(\"Duplicate IDs:\")\n",
    "print(id_duplicate)\n",
    "\n"
   ]
  }
 ],
 "metadata": {
  "kernelspec": {
   "display_name": "Python 3",
   "language": "python",
   "name": "python3"
  },
  "language_info": {
   "codemirror_mode": {
    "name": "ipython",
    "version": 3
   },
   "file_extension": ".py",
   "mimetype": "text/x-python",
   "name": "python",
   "nbconvert_exporter": "python",
   "pygments_lexer": "ipython3",
   "version": "3.10.13"
  }
 },
 "nbformat": 4,
 "nbformat_minor": 2
}
