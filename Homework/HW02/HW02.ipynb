{
 "cells": [
  {
   "cell_type": "markdown",
   "metadata": {},
   "source": [
    "\n",
    "1. Create a dataframe called ‘exposome’ using the exposome dataset and answer the\n",
    "following questions. Refer the Codebook file to find the field and values. You will\n",
    "use the datasets and dataframe from Part 1 of this assignment.\n",
    "    1. Add a new column to the dataframe exposome called ‘cotinine_combination’\n",
    "which combines all possible values of cotinine in mother\n",
    "(hs_cotinine_mcat_None) and cotinine in child (hs_cotinine_cdich_None). Create\n",
    "values of your choice in this new field and provide a count for each of these\n",
    "combined values. (15 Points)\n",
    "    2. Using the exposome and phenotype dataframes, plot ‘cotinine_combination’\n",
    "and the patients having doctor diagnosed asthma. 15 Points)\n",
    "\n",
    "\n"
   ]
  },
  {
   "cell_type": "markdown",
   "metadata": {},
   "source": [
    "2. Please use the file ‘NO2_2020_California’ to answer the following questions. You can\n",
    "use Python, R, or other programming languages that you are familiar with:\n",
    "    1. How many unique county names are in this file? After checking how many\n",
    "unique counties in this file, please choose a reasonable plot to show the\n",
    "distribution of counties. You can use either matplotlib or seaborn. (15 Points)"
   ]
  },
  {
   "cell_type": "markdown",
   "metadata": {},
   "source": [
    "3. Please use the file ‘NO2_2020_California’ to answer the following questions:\n",
    "    1. Find the geo-coordinates for ‘Martin Luther King High School’ with address\n",
    "‘9301 Wood Rd, Riverside, CA 92508’. (5 Points)\n",
    "    2. Find the nearest monitor by distance in the file ‘NO2_2020_California’ to the\n",
    "above school. (10 Points)\n",
    "    3. Next, find the monthly average, monthly minimum and monthly maximum for\n",
    "NO2 for this monitor for the year 2020. (15 Points)\n",
    "    4. Plot the monthly average, monthly minimum and monthly maximum NO2 on a\n",
    "graph using matplotlib or seaborn. (15 Points)"
   ]
  }
 ],
 "metadata": {
  "language_info": {
   "name": "python"
  }
 },
 "nbformat": 4,
 "nbformat_minor": 2
}
