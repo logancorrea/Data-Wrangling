{
 "cells": [
  {
   "cell_type": "markdown",
   "metadata": {},
   "source": [
    "\n",
    "1. Create a dataframe called ‘exposome’ using the exposome dataset and answer the\n",
    "following questions. Refer the Codebook file to find the field and values. You will\n",
    "use the datasets and dataframe from Part 1 of this assignment.\n",
    "    1. Add a new column to the dataframe exposome called ‘cotinine_combination’\n",
    "which combines all possible values of cotinine in mother\n",
    "(hs_cotinine_mcat_None) and cotinine in child (hs_cotinine_cdich_None). Create\n",
    "values of your choice in this new field and provide a count for each of these\n",
    "combined values. (15 Points)\n",
    "    2. Using the exposome and phenotype dataframes, plot ‘cotinine_combination’\n",
    "and the patients having doctor diagnosed asthma. 15 Points)\n",
    "\n",
    "\n"
   ]
  },
  {
   "cell_type": "code",
   "execution_count": 37,
   "metadata": {},
   "outputs": [
    {
     "name": "stdout",
     "output_type": "stream",
     "text": [
      "Cotinine possible values:\n",
      "['Undetected' 'Detected']\n",
      "['Smokers' 'Non-smokers' 'SHS smokers']\n"
     ]
    },
    {
     "data": {
      "text/plain": [
       "cotinine_combined\n",
       "Undetected Non-smokers    697\n",
       "Undetected Smokers        273\n",
       "Detected Smokers          112\n",
       "Undetected SHS smokers    108\n",
       "Detected Non-smokers       62\n",
       "Detected SHS smokers       49\n",
       "Name: count, dtype: int64"
      ]
     },
     "execution_count": 37,
     "metadata": {},
     "output_type": "execute_result"
    }
   ],
   "source": [
    "#Questoin 1.1\n",
    "import pandas as pd\n",
    "\n",
    "df_exposome = pd.read_csv('exposome.csv')\n",
    "\n",
    "# get variable names for phenotype data\n",
    "df_codebook = pd.read_csv('codebook.csv')\n",
    "\n",
    "cotinine_col = []\n",
    "\n",
    "# Check each column name and add to list if it contains 'cotine'\n",
    "for column in df_exposome.columns:\n",
    "    if 'cotinine' in column:\n",
    "        cotinine_col.append(column)\n",
    "\n",
    "# extract relavent variables from codebook\n",
    "codes = df_codebook[df_codebook['variable_name'].isin(cotinine_col)]\n",
    "# Looks like we are intersted in hs_cotinine_cdich and hs_cotinine_mcat columns\n",
    "\n",
    "# Identify unique values for relavent columns\n",
    "print(\"Cotinine possible values:\")\n",
    "print(df_exposome['hs_cotinine_cdich_None'].unique())\n",
    "print(df_exposome['hs_cotinine_mcat_None'].unique())\n",
    "\n",
    "# Combine two columns and add to exposome dataframe\n",
    "df_exposome['cotinine_combined'] = df_exposome['hs_cotinine_cdich_None'] + \" \" + df_exposome['hs_cotinine_mcat_None']\n",
    "df_exposome.head()\n",
    "\n",
    "# Counts of each cotinine_combined value\n",
    "df_exposome['cotinine_combined'].value_counts()"
   ]
  },
  {
   "cell_type": "code",
   "execution_count": null,
   "metadata": {},
   "outputs": [],
   "source": [
    "# Question 1.2\n"
   ]
  },
  {
   "cell_type": "markdown",
   "metadata": {},
   "source": [
    "2. Please use the file ‘NO2_2020_California’ to answer the following questions. You can\n",
    "use Python, R, or other programming languages that you are familiar with:\n",
    "    1. How many unique county names are in this file? After checking how many\n",
    "unique counties in this file, please choose a reasonable plot to show the\n",
    "distribution of counties. You can use either matplotlib or seaborn. (15 Points)"
   ]
  },
  {
   "cell_type": "markdown",
   "metadata": {},
   "source": [
    "3. Please use the file ‘NO2_2020_California’ to answer the following questions:\n",
    "    1. Find the geo-coordinates for ‘Martin Luther King High School’ with address\n",
    "‘9301 Wood Rd, Riverside, CA 92508’. (5 Points)\n",
    "    2. Find the nearest monitor by distance in the file ‘NO2_2020_California’ to the\n",
    "above school. (10 Points)\n",
    "    3. Next, find the monthly average, monthly minimum and monthly maximum for\n",
    "NO2 for this monitor for the year 2020. (15 Points)\n",
    "    4. Plot the monthly average, monthly minimum and monthly maximum NO2 on a\n",
    "graph using matplotlib or seaborn. (15 Points)"
   ]
  }
 ],
 "metadata": {
  "kernelspec": {
   "display_name": "Python 3",
   "language": "python",
   "name": "python3"
  },
  "language_info": {
   "codemirror_mode": {
    "name": "ipython",
    "version": 3
   },
   "file_extension": ".py",
   "mimetype": "text/x-python",
   "name": "python",
   "nbconvert_exporter": "python",
   "pygments_lexer": "ipython3",
   "version": "3.10.13"
  }
 },
 "nbformat": 4,
 "nbformat_minor": 2
}
